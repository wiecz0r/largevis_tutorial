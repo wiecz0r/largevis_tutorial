{
 "cells": [
  {
   "cell_type": "code",
   "execution_count": 6,
   "metadata": {},
   "outputs": [],
   "source": [
    "# Importy:\n",
    "from IPython.display import Image\n",
    "import numpy as np\n",
    "from sklearn.manifold import TSNE\n",
    "import io\n",
    "import base64\n",
    "from IPython.display import clear_output\n",
    "from IPython.display import HTML\n",
    "import matplotlib.cm as cm\n",
    "import matplotlib.colors as mcolors\n",
    "import matplotlib.pyplot as plt\n",
    "import numpy\n",
    "import matplotlib.pyplot as plt\n",
    "import time"
   ]
  },
  {
   "cell_type": "markdown",
   "metadata": {},
   "source": [
    "# LargeVis\n",
    "## Wstęp\n",
    "Naszym problemem pozostaje sensowna reprezentacja wielo-wymiarowych danych w 2/3 wymiarowej przestrzeni.<br>\n",
    "Najtrywialniejsze: podejście z policzeniem prawdopodobieństwa wszystkich par punktów -> O(n^2*d) d-liczba wymiarów<br>\n",
    "Lepsze: t-SNE -> konstrukcja grafu KNN (k najbliższych sąsiadów) i projekcja wyników do wymiaru 2D.\n",
    "\n",
    "Dla dużej ilości wymiarów algorytmy z rodziny SNE: t-SNE (O(n^2)) / bh-SNE (O(NlogN)) nie radzą sobie z danymi w rozsądnym czasie.\n",
    "Z punktu widzenia praktyczności i użyteczności zależy nam bardzo na tym aby cała procedura działała jak najszybciej.\n",
    "\n",
    "Jak to osiągnąć - z pomocą przychodzi largeVis!\n",
    "\n",
    "Metoda zaproponowana w 2016 roku używa dużo bardziej wydajnego algorytmu dla konstrukcji KNN oraz innego modelu probabilistycznego do wizualizacji grafu. \n",
    "\n",
    "Official paper: https://arxiv.org/pdf/1602.00370.pdf"
   ]
  },
  {
   "cell_type": "markdown",
   "metadata": {},
   "source": [
    "# Podejście\n",
    "<img src=\"img/pipeline.jpg\" alt=\"Drawing\" style=\"width: 800px;\"/>"
   ]
  },
  {
   "cell_type": "markdown",
   "metadata": {},
   "source": [
    "## 1.Konstrukcja grafu KNN\n",
    "* Random projection tree used for nearest-neighborhood search in the high-dimensional space with euclidean distance as metric of distance.\n",
    "* Tree is constructed by partitioning the entire space and the nodes in the tree correspond to subspaces.\n",
    "* For every non-leaf node of the tree, select a random hyperplane that splits the subspace (corresponding to the leaf node) into two children.\n",
    "* This is done till the number of nodes in the subspace reaches a threshold.\n",
    "* Once the tree is constructed, each data point gets assigned a leaf node and points in the subspace of the leaf node are the candidate nearest neighbors of that datapoint.\n",
    "* For high accuracy, a large number of trees should be constructed (which increases the computational cost).\n",
    "* The paper counters this bottleneck by using the idea \"a neighbor of my neighbor is also my neighbor\" to increase the accuracy of the constructed graph.\n",
    "* Basically construct an approximate KNN graph using random projection trees and then for each node, search its neighbor's neighbors as well.\n",
    "* Edges are assigned weights just like in t-SNE.\n",
    "\n",
    "<img src=\"img/algo_KNN.jpg\" alt=\"Drawing\" style=\"width: 500px;\"/>"
   ]
  },
  {
   "cell_type": "markdown",
   "metadata": {},
   "source": [
    "W skrócie:\n",
    "* opiera się na metodyce \"sąsiad mojego sąsiada jest moim sąsiadem\"\n",
    "* Budujemy kilka random projection trees -> przybliżony graf KNN. Póki co dokładność niewielka.\n",
    "* Dla każdgo wierzchołka w grafie przeszukujemy sąsiadów jego sąsiadów. Krok powinno się powtórzyć w kilku iteracjach, aby zwiększyć dokładność.\n",
    "\n",
    "Przewagą tego podejścia jest fakt, że potrzebujemy tylko kilku iteracji, aby dokładność grafu znacznie zbliżyła się do 100%\n",
    "\n",
    "<img src=\"img/knn_accuracy.jpg\" alt=\"Drawing\" style=\"width: 500px;\"/>\n",
    "<br>\n",
    "<br>\n",
    "<img src=\"img/knn_porownanie.jpg\" alt=\"Drawing\"/>"
   ]
  },
  {
   "cell_type": "markdown",
   "metadata": {},
   "source": [
    "***\n",
    "## 2.Wizualizacja (redukcja do 2D/3D)\n",
    "Redukcja wymiarowości otrzymanego grafu kNN do 2 albo 3<br>\n",
    "Podstawowe podejście:<br>\n",
    "* transforamcje liniowe, np. PCA\n",
    "* nieliniowe, np. MDS\n",
    "\n",
    "Metody transformacji nieliniowej są z reguły lepsze, ale mają duża złożoność i kiepsko radzą sobie z niespreparowanymi wcześniej danymi.\n",
    "\n",
    "Transformacją nieliniową, działająca dobrze na realnych danych jest np. tSNE. Jednakże jest słabo skalowalna i wrażliwa na zmianę parametrów.\n",
    "\n",
    "\n",
    "Podjeście w largeVis:\n",
    "* Given a pair of vertices, the probability of observing an edge between them is given as a function of the distance between the projection of the pair of vertices in the lower dimensional space.\n",
    "* The probability of observing an edge with weight w is given as wth power of probability of observing an edge.\n",
    "* Given a weighted graph, G, the likelihood of the graph can be modeled as the likelihood of observed edges plus the likelihood of negative edges (vertex pairs without edges).\n",
    "* To simplify the objective function, some negative edges are sampled corresponding to each vertex using a noisy distribution.\n",
    "* The edges are sampled with probability proportional to their weight and then treated as binary edges.\n",
    "* The resulting objective function can be optimized using asynchronous stochastic gradient descent (very effective on sparse graphs).\n",
    "* The overall complexity is O(sMN), s is the dimension of lower dimensional space, M is the number of negative samples and N is the number of vertices."
   ]
  },
  {
   "cell_type": "markdown",
   "metadata": {},
   "source": [
    "W skrócie:\n",
    "Dokonuje się tego za pomocą funkcji probabilistycznej, która jest optymalizowana za pomocą \"asynchronous stochastic gradient descent\".<br>\n",
    "Dzięki temu udaje nam się zejść do złożoności liniowej O(N).\n",
    "\n",
    "<br>\n",
    "Klasyfikacja punktów 2D:\n",
    "<img src=\"img/knn_classification.png\" alt=\"Drawing\"/>"
   ]
  },
  {
   "cell_type": "markdown",
   "metadata": {},
   "source": [
    "# LargeVis vs t-SNE/bh-SNE"
   ]
  },
  {
   "cell_type": "markdown",
   "metadata": {},
   "source": [
    "## Czas działania:\n",
    "<img src=\"img/largevis_vs_sne_graph.jpg\" alt=\"Drawing\" style=\"width: 900px;\"/>"
   ]
  },
  {
   "cell_type": "markdown",
   "metadata": {},
   "source": [
    "Tabela:\n",
    "<img src=\"img/largevis_vs_sne_table.jpg\" alt=\"Drawing\" style=\"width: 800px;\"/>"
   ]
  },
  {
   "cell_type": "markdown",
   "metadata": {},
   "source": [
    "### Przykłady:\n",
    "<img src=\"img/largevis_ex_1.jpg\" alt=\"Drawing\" style=\"width: 800px;\"/>\n",
    "<br>\n",
    "<img src=\"img/largevis_ex_2.jpg\" alt=\"Drawing\" style=\"width: 800px;\"/>\n",
    "<br>\n",
    "<img src=\"img/largevis_ex_3.jpg\" alt=\"Drawing\" style=\"width: 800px;\"/>"
   ]
  },
  {
   "cell_type": "code",
   "execution_count": null,
   "metadata": {},
   "outputs": [],
   "source": [
    "import itertools as itools\n",
    "def subset_of_dataset(input_f, output_f, no_of_points, no_of_dims, categories):\n",
    "    lines = []\n",
    "    p_no = 0\n",
    "    with open(input_f,\"r\") as f:\n",
    "        lines = f.readlines()\n",
    "    with open(output_f,\"w\") as f:\n",
    "        f.write(lines[0])\n",
    "        for line in lines[1:]:\n",
    "            if p_no >= no_of_points:\n",
    "                break\n",
    "            l = line.strip()\n",
    "            category = l[-1]\n",
    "            if category in categories:\n",
    "                p_no += 1\n",
    "            else:\n",
    "                continue\n",
    "            sliced_l = itools.islice(l, no_of_dims)\n",
    "            sliced_l\n",
    "            \n",
    "        \n",
    "        "
   ]
  }
 ],
 "metadata": {
  "kernelspec": {
   "display_name": "Python 3",
   "language": "python",
   "name": "python3"
  },
  "language_info": {
   "codemirror_mode": {
    "name": "ipython",
    "version": 3
   },
   "file_extension": ".py",
   "mimetype": "text/x-python",
   "name": "python",
   "nbconvert_exporter": "python",
   "pygments_lexer": "ipython3",
   "version": "3.7.2"
  }
 },
 "nbformat": 4,
 "nbformat_minor": 2
}
